{
 "cells": [
  {
   "cell_type": "markdown",
   "metadata": {},
   "source": [
    "## Ejercicios"
   ]
  },
  {
   "cell_type": "markdown",
   "metadata": {},
   "source": [
    "### Parte 1: Strings"
   ]
  },
  {
   "cell_type": "markdown",
   "metadata": {},
   "source": [
    "1. Dada una cadena de texto, contar cuántas veces aparece una letra específica en ella. Usa un input para que el usuario elija la letra a buscar."
   ]
  },
  {
   "cell_type": "code",
   "execution_count": 1,
   "metadata": {},
   "outputs": [
    {
     "name": "stdout",
     "output_type": "stream",
     "text": [
      "La letra a aparece 4 veces\n"
     ]
    }
   ],
   "source": [
    "cadena = \"Python es un lenguaje de programación muy popular\"\n",
    "\n",
    "letra = input(\"Escoge la letra que quieras contabilizar\").strip().lower()\n",
    "\n",
    "print(f\"La letra {letra} aparece {cadena.lower().count(letra)} veces\")"
   ]
  },
  {
   "cell_type": "markdown",
   "metadata": {},
   "source": [
    "2. Escribe un programa que tome la siguiente cadena de texto y reemplace una palabra específica por otra palabra. La palabra a reemplazar y reemplazada deben ser elegidas por el usuario."
   ]
  },
  {
   "cell_type": "code",
   "execution_count": 2,
   "metadata": {},
   "outputs": [
    {
     "name": "stdout",
     "output_type": "stream",
     "text": [
      "Python es divertido. Python es fácil de aprender.\n"
     ]
    }
   ],
   "source": [
    "cadena = \"Python es genial. Python es fácil de aprender.\"\n",
    "\n",
    "quitar = input(\"¿Qué palabra deseas reemplazar?\").lower()\n",
    "poner = input(\"¿Qué palabra quieres que la reemplace\").lower()\n",
    "\n",
    "\n",
    "cadena = cadena.replace(quitar , poner)\n",
    "\n",
    "print(cadena)"
   ]
  },
  {
   "cell_type": "markdown",
   "metadata": {},
   "source": [
    "3. Toma la siguiente oración y divídela en una lista de palabras. Luego, únelas nuevamente en una sola cadena de texto."
   ]
  },
  {
   "cell_type": "code",
   "execution_count": 3,
   "metadata": {},
   "outputs": [
    {
     "name": "stdout",
     "output_type": "stream",
     "text": [
      "['Esto', 'es', 'una', 'oración', 'de', 'ejemplo']\n",
      "Esto es una oración de ejemplo\n"
     ]
    }
   ],
   "source": [
    "oracion = \"Esto es una oración de ejemplo\"\n",
    "\n",
    "lista_oracion = oracion.split()\n",
    "\n",
    "oracion_unida = \" \".join(lista_oracion)\n",
    "\n",
    "print(lista_oracion)\n",
    "print(oracion_unida)"
   ]
  },
  {
   "cell_type": "markdown",
   "metadata": {},
   "source": [
    "4. Desarrolla un programa que cuente cuántas palabras hay en la siguiente frase."
   ]
  },
  {
   "cell_type": "code",
   "execution_count": 4,
   "metadata": {},
   "outputs": [
    {
     "name": "stdout",
     "output_type": "stream",
     "text": [
      "En la frase hay 7 palabras\n"
     ]
    }
   ],
   "source": [
    "cadena = \"Esta es una cadena con cinco palabras\"\n",
    "\n",
    "lista_cadena = cadena.split()\n",
    "\n",
    "contador = len(lista_cadena)\n",
    "\n",
    "print(f\"En la frase hay {contador} palabras\")"
   ]
  },
  {
   "cell_type": "markdown",
   "metadata": {},
   "source": [
    "5. Escribe un programa que invierta una cadena de texto dada por un usuario. Mira el siguiente ejemplo para entender lo que se pide:"
   ]
  },
  {
   "cell_type": "code",
   "execution_count": 5,
   "metadata": {},
   "outputs": [
    {
     "name": "stdout",
     "output_type": "stream",
     "text": [
      "Me llamo Marina\n",
      "Marina llamo Me\n"
     ]
    }
   ],
   "source": [
    "frase_inicio = input(\"Escribe una frase corta\")\n",
    "\n",
    "lista_inicio = frase_inicio.split()\n",
    "\n",
    "frase_reverse = \" \".join(reversed(lista_inicio))\n",
    "\n",
    "print(frase_inicio)\n",
    "print(frase_reverse)"
   ]
  },
  {
   "cell_type": "markdown",
   "metadata": {},
   "source": [
    "6. Crea un programa que busque una palabra específica(elegida por la usuaria) en una cadena de texto e indique su posición."
   ]
  },
  {
   "cell_type": "code",
   "execution_count": 6,
   "metadata": {},
   "outputs": [
    {
     "name": "stdout",
     "output_type": "stream",
     "text": [
      "Frase: Estamos haciendo un examen\n",
      "La palabra examen está en la posición número 4\n"
     ]
    }
   ],
   "source": [
    "cadena = input(\"Escribe una frase corta\").lower()\n",
    "\n",
    "palabra = input(\"¿Qué palabra quieres buscar?\").lower()\n",
    "\n",
    "lista_cadena = cadena.split()\n",
    "\n",
    "posicion = lista_cadena.index(palabra) + 1 # --Sumamos 1 porque los índices empiezan en 0\n",
    "\n",
    "print(f\"Frase: {cadena}\")\n",
    "print(f\"La palabra {palabra} está en la posición número {posicion}\")"
   ]
  },
  {
   "cell_type": "markdown",
   "metadata": {},
   "source": [
    "### Parte 2: Strings"
   ]
  },
  {
   "cell_type": "markdown",
   "metadata": {},
   "source": [
    "1. Dada la siguiente lista: frutas = ['manzana', 'pera', 'banana', 'uva', 'kiwi'], realiza lo siguiente:\n",
    "- Reemplaza el segundo elemento con 'durazno'.\n",
    "- Agrega 'naranja' al final de la lista.\n",
    "- Extrae y muestra por pantalla el tercer elemento de la lista."
   ]
  },
  {
   "cell_type": "code",
   "execution_count": 7,
   "metadata": {},
   "outputs": [
    {
     "name": "stdout",
     "output_type": "stream",
     "text": [
      "El tercer elemento de la lista es banana\n"
     ]
    }
   ],
   "source": [
    "frutas = ['manzana', 'pera', 'banana', 'uva', 'kiwi']\n",
    "\n",
    "frutas[1] = \"durazno\"\n",
    "\n",
    "frutas.append(\"naranja\")\n",
    "\n",
    "print(f\"El tercer elemento de la lista es {frutas[2]}\")\n"
   ]
  },
  {
   "cell_type": "markdown",
   "metadata": {},
   "source": [
    "2. Crea una lista llamada numeros que contenga los siguientes valores: 10, 25, 15, 30, 20."
   ]
  },
  {
   "cell_type": "code",
   "execution_count": 58,
   "metadata": {},
   "outputs": [],
   "source": [
    "numeros = [10 , 25 , 15 , 30 , 20]"
   ]
  },
  {
   "cell_type": "markdown",
   "metadata": {},
   "source": [
    "3. Agrega el valor 35 al incio de la lista numeros."
   ]
  },
  {
   "cell_type": "code",
   "execution_count": 59,
   "metadata": {},
   "outputs": [
    {
     "name": "stdout",
     "output_type": "stream",
     "text": [
      "Ahora la lista de numeros contiene: [35, 10, 25, 15, 30, 20]\n"
     ]
    }
   ],
   "source": [
    "numeros.insert(0 , 35)\n",
    "\n",
    "print(f\"Ahora la lista de numeros contiene: {numeros}\")"
   ]
  },
  {
   "cell_type": "markdown",
   "metadata": {},
   "source": [
    "4. Ordena la lista numeros en orden ascendente."
   ]
  },
  {
   "cell_type": "code",
   "execution_count": 60,
   "metadata": {},
   "outputs": [
    {
     "name": "stdout",
     "output_type": "stream",
     "text": [
      "Si ordenamos la lista, tenemos: [10, 15, 20, 25, 30, 35]\n"
     ]
    }
   ],
   "source": [
    "lista_ordenada = sorted(numeros) \n",
    "\n",
    "print(f\"Si ordenamos la lista, tenemos: {lista_ordenada}\")"
   ]
  },
  {
   "cell_type": "markdown",
   "metadata": {},
   "source": [
    "5. Dada la siguiente lista numeros2 = [45, 22, 19, 38, 29]. Crea una nueva lista llamada numeros3 donde tengamos la unión de los todos los elementos de las dos listas (numeros y numeros2) de tal forma que el resultado final sea: numeros3 = [10, 25, 15, 30, 20, 45, 22, 19, 38, 29]"
   ]
  },
  {
   "cell_type": "code",
   "execution_count": 61,
   "metadata": {},
   "outputs": [
    {
     "name": "stdout",
     "output_type": "stream",
     "text": [
      "Si combinamos ambas listas en una nueva, numeros3 tendría: [10, 25, 15, 30, 20, 45, 22, 19, 38, 29]\n"
     ]
    }
   ],
   "source": [
    "numeros = [10 , 25 , 15 , 30 , 20]\n",
    "numeros2 = [45, 22, 19, 38, 29]\n",
    "\n",
    "numeros3 = numeros + numeros2\n",
    "\n",
    "print(f\"Si combinamos ambas listas en una nueva, numeros3 tendría: {numeros3}\")"
   ]
  },
  {
   "cell_type": "markdown",
   "metadata": {},
   "source": [
    "6. Elimina el último elemento de la lista numeros3."
   ]
  },
  {
   "cell_type": "code",
   "execution_count": 12,
   "metadata": {},
   "outputs": [
    {
     "data": {
      "text/plain": [
       "29"
      ]
     },
     "execution_count": 12,
     "metadata": {},
     "output_type": "execute_result"
    }
   ],
   "source": [
    "numeros3.pop()"
   ]
  },
  {
   "cell_type": "markdown",
   "metadata": {},
   "source": [
    "7. Elimina el número 30 de la lista numeros3."
   ]
  },
  {
   "cell_type": "code",
   "execution_count": 62,
   "metadata": {},
   "outputs": [
    {
     "name": "stdout",
     "output_type": "stream",
     "text": [
      "La lista con el número 30: [10, 25, 15, 30, 20, 45, 22, 19, 38, 29]\n",
      "La lista actualizada: [10, 25, 15, 20, 45, 22, 19, 38, 29]\n"
     ]
    }
   ],
   "source": [
    "print(f\"La lista con el número 30: {numeros3}\")\n",
    "\n",
    "numeros3.remove(30)\n",
    "\n",
    "print(f\"La lista actualizada: {numeros3}\")"
   ]
  },
  {
   "cell_type": "markdown",
   "metadata": {},
   "source": [
    "### Parte 3: Tuplas"
   ]
  },
  {
   "cell_type": "markdown",
   "metadata": {},
   "source": [
    "1. Crea una tupla llamada colores que contenga los siguientes valores: 'rojo', 'verde', 'azul', 'amarillo', 'morado'."
   ]
  },
  {
   "cell_type": "code",
   "execution_count": 14,
   "metadata": {},
   "outputs": [],
   "source": [
    "colores = \"rojo\" , \"verde\" , \"azul\" , \"amarillo\" , \"morado\""
   ]
  },
  {
   "cell_type": "markdown",
   "metadata": {},
   "source": [
    "2. Encuentra el índice de 'verde' en la tupla colores."
   ]
  },
  {
   "cell_type": "code",
   "execution_count": 15,
   "metadata": {},
   "outputs": [
    {
     "name": "stdout",
     "output_type": "stream",
     "text": [
      "El índice es 1\n"
     ]
    }
   ],
   "source": [
    "indice = colores.index(\"verde\")\n",
    "\n",
    "print(f\"El índice es {indice}\")"
   ]
  },
  {
   "cell_type": "markdown",
   "metadata": {},
   "source": [
    "3. ¿Cuántas veces aparece 'azul' en la tupla colores?"
   ]
  },
  {
   "cell_type": "code",
   "execution_count": 16,
   "metadata": {},
   "outputs": [
    {
     "name": "stdout",
     "output_type": "stream",
     "text": [
      "Azul aparece 1 vez/veces\n"
     ]
    }
   ],
   "source": [
    "conteo = colores.count(\"azul\")\n",
    "\n",
    "print(f\"Azul aparece {conteo} vez/veces\")"
   ]
  },
  {
   "cell_type": "markdown",
   "metadata": {},
   "source": [
    "4. Añade el color \"morado\" a la tupla colores. ¿Qué ha pasado? ¿Por qué? Como podríamos añadir el elemento \"morado\"."
   ]
  },
  {
   "cell_type": "code",
   "execution_count": 17,
   "metadata": {},
   "outputs": [
    {
     "name": "stdout",
     "output_type": "stream",
     "text": [
      "Añadimos morado con el primer método a la tupla de colores: ('rojo', 'verde', 'azul', 'amarillo', 'morado', 'morado')\n",
      "Volvemos a añadir morado, pero ahora con el segundo método, a la tupla de colores: ('rojo', 'verde', 'azul', 'amarillo', 'morado', 'morado', 'morado')\n"
     ]
    }
   ],
   "source": [
    "# --Las tuplas son inmutables, así que no se pueden modificar una vez creadas. Intentar añadir un nuevo elemento daría error. \n",
    "\n",
    "# --Mi solución inicial fue crear una nueva tupla con el elemento a añadir para luego unirlas:\n",
    "\n",
    "nuevo_color = \"morado\" ,\n",
    "\n",
    "colores = colores + nuevo_color\n",
    "\n",
    "print(f\"Añadimos morado con el primer método a la tupla de colores: {colores}\")\n",
    "\n",
    "# --Como la solución anterior realmente no modifica la tupla de origen, en el repaso de ejercicios recomendaron hacerlo utilizando una lista:\n",
    "\n",
    "colores = list(colores)\n",
    "\n",
    "colores.append(\"morado\")\n",
    "\n",
    "colores = tuple(colores)\n",
    "\n",
    "print(f\"Volvemos a añadir morado, pero ahora con el segundo método, a la tupla de colores: {colores}\") # --\"morado\" sale una vez más, ya que se ha añadido correctamente en el primer método y en el segundo "
   ]
  },
  {
   "cell_type": "markdown",
   "metadata": {},
   "source": [
    "### Parte 4: Diccionarios"
   ]
  },
  {
   "cell_type": "markdown",
   "metadata": {},
   "source": [
    "1. Crea un diccionario llamado frutas con las siguientes parejas clave-valor:"
   ]
  },
  {
   "cell_type": "code",
   "execution_count": 33,
   "metadata": {},
   "outputs": [],
   "source": [
    "frutas = {'manzana': 2 ,\n",
    "'banana': 3 ,\n",
    "'uva': 5 ,\n",
    "'pera': 4}"
   ]
  },
  {
   "cell_type": "markdown",
   "metadata": {},
   "source": [
    "2. Saca una lista de todas las frutas en el diccionario."
   ]
  },
  {
   "cell_type": "code",
   "execution_count": 20,
   "metadata": {},
   "outputs": [
    {
     "name": "stdout",
     "output_type": "stream",
     "text": [
      "Las frutas del diccionario son: ['manzana', 'banana', 'uva', 'pera']\n"
     ]
    }
   ],
   "source": [
    "lista_frutas = list(frutas.keys())\n",
    "\n",
    "print(f\"Las frutas del diccionario son: {lista_frutas}\")"
   ]
  },
  {
   "cell_type": "markdown",
   "metadata": {},
   "source": [
    "3. Saca una lista de todas las cantidades en el diccionario."
   ]
  },
  {
   "cell_type": "code",
   "execution_count": 21,
   "metadata": {},
   "outputs": [
    {
     "name": "stdout",
     "output_type": "stream",
     "text": [
      "Las cantidades del diccionario son: [2, 3, 5, 4]\n"
     ]
    }
   ],
   "source": [
    "lista_cantidades = list(frutas.values())\n",
    "\n",
    "print(f\"Las cantidades del diccionario son: {lista_cantidades}\")"
   ]
  },
  {
   "cell_type": "markdown",
   "metadata": {},
   "source": [
    "4. ¿Qué cantidad de 'manzana' tenemos?. Si la clave 'manzana' no está presente, devuelve un mensaje diciendo \"No existe esa clave\"."
   ]
  },
  {
   "cell_type": "code",
   "execution_count": 28,
   "metadata": {},
   "outputs": [
    {
     "name": "stdout",
     "output_type": "stream",
     "text": [
      "La cantidad de manzanas es: 2\n"
     ]
    }
   ],
   "source": [
    "cantidad_manzanas = frutas.get(\"manzana\" , \"No existe esa clave\")\n",
    "\n",
    "print(f\"La cantidad de manzanas es: {cantidad_manzanas}\")"
   ]
  },
  {
   "cell_type": "markdown",
   "metadata": {},
   "source": [
    "5. Agrega un nuevo par de clave-valor al diccionario frutas: 'kiwi' con una cantidad de 6."
   ]
  },
  {
   "cell_type": "code",
   "execution_count": 34,
   "metadata": {},
   "outputs": [
    {
     "name": "stdout",
     "output_type": "stream",
     "text": [
      "Ahora el diccionario contiene: {'manzana': 2, 'banana': 3, 'uva': 5, 'pera': 4, 'kiwi': 6}\n"
     ]
    }
   ],
   "source": [
    "frutas[\"kiwi\"] = 6\n",
    "\n",
    "print(f\"Ahora el diccionario contiene: {frutas}\")"
   ]
  },
  {
   "cell_type": "markdown",
   "metadata": {},
   "source": [
    "6. Cambia la cantidad de 'uva' a 8."
   ]
  },
  {
   "cell_type": "code",
   "execution_count": 35,
   "metadata": {},
   "outputs": [
    {
     "name": "stdout",
     "output_type": "stream",
     "text": [
      "Ahora el dicionario contiene: {'manzana': 2, 'banana': 3, 'uva': 8, 'pera': 4, 'kiwi': 6}\n"
     ]
    }
   ],
   "source": [
    "frutas[\"uva\"] = 8\n",
    "\n",
    "print(f\"Ahora el dicionario contiene: {frutas}\")"
   ]
  },
  {
   "cell_type": "markdown",
   "metadata": {},
   "source": [
    "7. Crea un segundo diccionario llamado frutas_nuevas con las siguientes parejas clave-valor:\n",
    "- 'sandía': 7\n",
    "- 'mango': 4"
   ]
  },
  {
   "cell_type": "code",
   "execution_count": 36,
   "metadata": {},
   "outputs": [
    {
     "name": "stdout",
     "output_type": "stream",
     "text": [
      "El nuevo diccionario es {'sandía': 7, 'mango': 4}\n"
     ]
    }
   ],
   "source": [
    "frutas_nuevas = {\"sandía\" : 7, \"mango\" : 4}\n",
    "print(f\"El nuevo diccionario es {frutas_nuevas}\")"
   ]
  },
  {
   "cell_type": "markdown",
   "metadata": {},
   "source": [
    "8. Combinar los dos diccionarios frutas_nuevas y frutas en uno nuevos llamado frutas_total."
   ]
  },
  {
   "cell_type": "code",
   "execution_count": 41,
   "metadata": {},
   "outputs": [
    {
     "name": "stdout",
     "output_type": "stream",
     "text": [
      "Si combninamos ambos diccionarios, tenemos: {'manzana': 2, 'banana': 3, 'uva': 8, 'pera': 4, 'kiwi': 6, 'sandía': 7, 'mango': 4}\n"
     ]
    }
   ],
   "source": [
    "frutas_total = frutas.copy()\n",
    "\n",
    "frutas_total.update(frutas_nuevas)\n",
    "\n",
    "print(f\"Si combninamos ambos diccionarios, tenemos: {frutas_total}\")"
   ]
  },
  {
   "cell_type": "markdown",
   "metadata": {},
   "source": [
    "9. Elimina el último par de clave-valor del diccionario fruta_total."
   ]
  },
  {
   "cell_type": "code",
   "execution_count": 42,
   "metadata": {},
   "outputs": [
    {
     "name": "stdout",
     "output_type": "stream",
     "text": [
      "Eliminamos el último elemento ('mango', 4)\n",
      "El diccionario ahora contiene: {'manzana': 2, 'banana': 3, 'uva': 8, 'pera': 4, 'kiwi': 6, 'sandía': 7}\n"
     ]
    }
   ],
   "source": [
    "print(f\"Eliminamos el último elemento {frutas_total.popitem()}\")\n",
    "\n",
    "print(f\"El diccionario ahora contiene: {frutas_total}\")"
   ]
  },
  {
   "cell_type": "markdown",
   "metadata": {},
   "source": [
    "10. Elimina el par de clave-valor correspondiente a la clave 'uva' del diccionario."
   ]
  },
  {
   "cell_type": "code",
   "execution_count": 43,
   "metadata": {},
   "outputs": [
    {
     "name": "stdout",
     "output_type": "stream",
     "text": [
      "Eliminamos el clave-valor de uva\n",
      "El diccionario ahora contiene: {'manzana': 2, 'banana': 3, 'pera': 4, 'kiwi': 6, 'sandía': 7}\n"
     ]
    }
   ],
   "source": [
    "print(f\"Eliminamos el clave-valor de uva\")\n",
    "\n",
    "frutas_total.pop(\"uva\")\n",
    "\n",
    "print(f\"El diccionario ahora contiene: {frutas_total}\")"
   ]
  },
  {
   "cell_type": "markdown",
   "metadata": {},
   "source": [
    "11. Agregar la fruta 'manzana' con una cantidad de 10 al diccionario. Si ya existe, no se realizarán cambios en los valores que teníamos."
   ]
  },
  {
   "cell_type": "code",
   "execution_count": 46,
   "metadata": {},
   "outputs": [
    {
     "data": {
      "text/plain": [
       "2"
      ]
     },
     "execution_count": 46,
     "metadata": {},
     "output_type": "execute_result"
    }
   ],
   "source": [
    "frutas_total.setdefault(\"manzana\" , 10) # --Como manzana existe en el diccionario, devuelve su valor en lugar de reemplazarlo por 10"
   ]
  },
  {
   "cell_type": "markdown",
   "metadata": {},
   "source": [
    "12. Combinar métodos de listas y diccionarios:\n",
    "- Obtén una lista de todas las cantidades en el diccionario y calcula suma total de las cantidades del diccionario frutas_total.\n",
    "- Utilizando la lista creada en el apartado anterior encuentra la cantidad más grande y más pequeña."
   ]
  },
  {
   "cell_type": "code",
   "execution_count": 35,
   "metadata": {},
   "outputs": [
    {
     "name": "stdout",
     "output_type": "stream",
     "text": [
      "{'manzana': 2, 'banana': 3, 'pera': 4, 'kiwi': 6, 'sandía': 7}\n",
      "En total tenemos 22 piezas de fruta\n",
      "La mayor cantidad de piezas de fruta es 7 y la menor es 2\n"
     ]
    }
   ],
   "source": [
    "lista_cantidades = list(frutas_total.values())\n",
    "\n",
    "suma_cantidades = lista_cantidades[0] + lista_cantidades[1] + lista_cantidades[2] + lista_cantidades[3] + lista_cantidades[4]\n",
    "\n",
    "print(frutas_total)\n",
    "print(f\"En total tenemos {suma_cantidades} piezas de fruta\")\n",
    "\n",
    "lista_cantidades.sort()\n",
    "\n",
    "print(f\"La mayor cantidad de piezas de fruta es {lista_cantidades[-1]} y la menor es {lista_cantidades[0]}\")"
   ]
  },
  {
   "cell_type": "markdown",
   "metadata": {},
   "source": [
    "### Parte 5: Métodos de Sets"
   ]
  },
  {
   "cell_type": "markdown",
   "metadata": {},
   "source": [
    "1. Crea un set llamado conjunto1 con los números del 1 al 5."
   ]
  },
  {
   "cell_type": "code",
   "execution_count": 47,
   "metadata": {},
   "outputs": [],
   "source": [
    "conjunto1 = {1 , 2 , 3 , 4 , 5}"
   ]
  },
  {
   "cell_type": "markdown",
   "metadata": {},
   "source": [
    "2. Crea otro set llamado conjunto2 con los números del 4 al 8."
   ]
  },
  {
   "cell_type": "code",
   "execution_count": 48,
   "metadata": {},
   "outputs": [],
   "source": [
    "conjunto2 = {4 , 5 , 6 , 7 , 8}"
   ]
  },
  {
   "cell_type": "markdown",
   "metadata": {},
   "source": [
    "3. Obtén la unión de conjunto1 y conjunto2."
   ]
  },
  {
   "cell_type": "code",
   "execution_count": 49,
   "metadata": {},
   "outputs": [
    {
     "name": "stdout",
     "output_type": "stream",
     "text": [
      "La unión de ambos conjuntos es {1, 2, 3, 4, 5, 6, 7, 8}\n"
     ]
    }
   ],
   "source": [
    "print(f\"La unión de ambos conjuntos es: {conjunto1.union(conjunto2)}\")"
   ]
  },
  {
   "cell_type": "markdown",
   "metadata": {},
   "source": [
    "4. Obtén la intersección de conjunto1 y conjunto2."
   ]
  },
  {
   "cell_type": "code",
   "execution_count": 50,
   "metadata": {},
   "outputs": [
    {
     "name": "stdout",
     "output_type": "stream",
     "text": [
      "La intersección de ambos conjuntos es: {4, 5}\n"
     ]
    }
   ],
   "source": [
    "print(f\"La intersección de ambos conjuntos es: {conjunto1.intersection(conjunto2)}\")"
   ]
  },
  {
   "cell_type": "markdown",
   "metadata": {},
   "source": [
    "5. Obtén los elementos que están en conjunto1 pero no en el conjunto2."
   ]
  },
  {
   "cell_type": "code",
   "execution_count": 51,
   "metadata": {},
   "outputs": [
    {
     "name": "stdout",
     "output_type": "stream",
     "text": [
      "Los elementos que están en el primer conjunto, pero no en el segundo, son: {1, 2, 3}\n"
     ]
    }
   ],
   "source": [
    "print(f\"Los elementos que están en el primer conjunto, pero no en el segundo, son: {conjunto1.difference(conjunto2)}\")"
   ]
  },
  {
   "cell_type": "markdown",
   "metadata": {},
   "source": [
    "### Parte 6: Sentencias de Control"
   ]
  },
  {
   "cell_type": "markdown",
   "metadata": {},
   "source": [
    "Ejercicio 1: Evaluación de Edades:\n",
    "- Escribe un programa que solicite al usuario ingresar su edad.\n",
    "- Si la edad es menor de 18, muestra \"Eres menor de edad\".\n",
    "- Si la edad está entre 18 y 65 (incluyendo ambos extremos), muestra \"Eres adulto\".\n",
    "- Si la edad es mayor que 65, muestra \"Eres un adulto mayor\"."
   ]
  },
  {
   "cell_type": "code",
   "execution_count": 49,
   "metadata": {},
   "outputs": [
    {
     "name": "stdout",
     "output_type": "stream",
     "text": [
      "Con 30 años eres adulto\n"
     ]
    }
   ],
   "source": [
    "edad = int(input(\"Indica tu edad\").strip())\n",
    "\n",
    "if edad < 18:\n",
    "    categoria = \"menor de edad\"\n",
    "\n",
    "elif edad <= 65:\n",
    "    categoria = \"adulto\"\n",
    "\n",
    "else:\n",
    "    categoria = \"adulto mayor\"\n",
    "\n",
    "print(f\"Con {edad} años eres {categoria}\")"
   ]
  },
  {
   "cell_type": "markdown",
   "metadata": {},
   "source": [
    "Ejercicio 2: Determinación de Día de la Semana\n",
    "- Solicita al usuario que ingrese un número del 1 al 7.\n",
    "- Utilizando una serie de if-elif-else, muestra el día de la semana correspondiente al número ingresado. Por ejemplo, si ingresa 1, muestra \"Lunes\"."
   ]
  },
  {
   "cell_type": "code",
   "execution_count": 57,
   "metadata": {},
   "outputs": [
    {
     "name": "stdout",
     "output_type": "stream",
     "text": [
      "El número 6 corresponde al Sábado\n",
      "El número 6 corresponde al Sábado\n"
     ]
    }
   ],
   "source": [
    "dia = int(input(\"Escoge un número del 1 al 7\").strip())\n",
    "\n",
    "if dia == 1:\n",
    "    print(\"El número 1 corresponde al Lunes\")\n",
    "\n",
    "elif dia == 2:\n",
    "    print(\"El número 2 corresponde al Martes\")\n",
    "\n",
    "elif dia == 3:\n",
    "    print(\"El número 3 corresponde al Miércoles\")\n",
    "\n",
    "elif dia == 4:\n",
    "    print(\"El número 4 corresponde al Jueves\")\n",
    "\n",
    "elif dia == 5:\n",
    "    print(\"El número 5 corresponde al Viernes\")\n",
    "\n",
    "elif dia == 6:\n",
    "    print(\"El número 6 corresponde al Sábado\")\n",
    "\n",
    "elif dia == 7:\n",
    "    print(\"El número 6 corresponde al Domingo\")\n",
    "\n",
    "else:\n",
    "    print(\"El número introducido no corresponde a ningún día. Prueba de nuevo\")\n",
    "\n",
    "\n",
    "# --Método alternativo (simplificado) para obtener el mismo resultado:\n",
    "\n",
    "semana = {1 : \"Lunes\" , 2 : \"Martes\" , 3 : \"Miércoles\" , 4 : \"Jueves\" , 5 : \"Viernes\" , 6 : \"Sábado\" , 7 : \"Domingo\"}\n",
    "\n",
    "if semana.get(dia):\n",
    "    print(f\"El número {dia} corresponde al {semana.get(dia)}\")\n",
    "\n",
    "else: \n",
    "    print(\"Parece que el número introducido no es válido\")"
   ]
  },
  {
   "cell_type": "markdown",
   "metadata": {},
   "source": [
    "Ejercicio 3: Juego de Adivinanza\n",
    "- Genera un número aleatorio entre 1 y 100.\n",
    "- Pídele al usuario que adivine el número.\n",
    "- Si el usuario adivina correctamente en el primer intento, muestra \"¡Ganaste en el primer intento!\".\n",
    "- Si el usuario no adivina en el primer intento, bríndale pistas (mayor o menor) y permite que intente nuevamente. Muestra cuántos intentos le llevó al final."
   ]
  },
  {
   "cell_type": "code",
   "execution_count": 56,
   "metadata": {},
   "outputs": [
    {
     "name": "stdout",
     "output_type": "stream",
     "text": [
      "Pista: El número secreto es mayor que 50. Prueba de nuevo\n",
      "Pista: El número secreto es mayor que 40. Prueba de nuevo\n",
      "Pista: El número secreto es mayor que 60. Prueba de nuevo\n",
      "Pista: El número secreto es mayor que 70. Prueba de nuevo\n",
      "Pista: El número secreto es mayor que 80. Prueba de nuevo\n",
      "Pista: El número secreto es menor que 90. Prueba de nuevo\n",
      "Pista: El número secreto es menor que 91. Prueba de nuevo\n",
      "Pista: El número secreto es menor que 85. Prueba de nuevo\n",
      "Pista: El número secreto es mayor que 83. Prueba de nuevo\n",
      "¡Ganaste en tu intento número 10!\n",
      "El número secreto era 84\n"
     ]
    }
   ],
   "source": [
    "import random\n",
    "\n",
    "numero_aleatorio = random.randint(1 , 100)\n",
    "\n",
    "intentos = 0\n",
    "\n",
    "respuesta = \"\"\n",
    "\n",
    "while numero_aleatorio != respuesta:\n",
    "\n",
    "    respuesta = int(input(\"Adivina el número secreto\").strip())\n",
    "\n",
    "    intentos +=1\n",
    "\n",
    "    if numero_aleatorio == respuesta:\n",
    "        \n",
    "        if intentos == 1:\n",
    "            print(f\"¡Ganaste en el primer intento!\")\n",
    "            print(f\"El número secreto era {numero_aleatorio}\")\n",
    "\n",
    "        else:\n",
    "            print(f\"¡Ganaste en tu intento número {intentos}!\")\n",
    "            print(f\"El número secreto era {numero_aleatorio}\")\n",
    "        \n",
    "    else:\n",
    "\n",
    "        if respuesta < numero_aleatorio:\n",
    "            print(f\"Pista: El número secreto es mayor que {respuesta}. Prueba de nuevo\")\n",
    "\n",
    "        else:\n",
    "            print(f\"Pista: El número secreto es menor que {respuesta}. Prueba de nuevo\")\n"
   ]
  },
  {
   "cell_type": "markdown",
   "metadata": {},
   "source": [
    "Ejercicio 4: Juego de Adivinar la Palabra\n",
    "- Elige una palabra secreta y ocúltala utilizando asteriscos, por ejemplo, \"secreto\" se muestra como \"*******\".\n",
    "- Permite al usuario adivinar letras una por una.\n",
    "- Si la letra adivinada está en la palabra secreta, muestra la palabra con las letras descubiertas y los asteriscos.\n",
    "- Si la letra no está en la palabra secreta, resta una vida al jugador.\n",
    "- El juego continúa hasta que el jugador adivine la palabra."
   ]
  },
  {
   "cell_type": "code",
   "execution_count": 86,
   "metadata": {},
   "outputs": [
    {
     "name": "stdout",
     "output_type": "stream",
     "text": [
      "Intenta adivinar la palabra secreta:\n",
      "* * * * \n",
      "¡Enhorabuena, has acertado! La letra a está en la palabra secreta:\n",
      "* * * a\n",
      "¡Enhorabuena, has acertado! La letra r está en la palabra secreta:\n",
      "* * r a\n",
      "¡Enhorabuena, has acertado! La letra p está en la palabra secreta:\n",
      "p * r a\n",
      "¡Enhorabuena, has acertado! La letra e está en la palabra secreta:\n",
      "p e r a\n"
     ]
    }
   ],
   "source": [
    "palabra_secreta = \"pera\"\n",
    "\n",
    "letras_secretas = list(palabra_secreta)\n",
    "\n",
    "asteriscos = \"* \" * len(letras_secretas)\n",
    "\n",
    "lista_asteriscos = asteriscos.split()\n",
    "\n",
    "vidas = 8\n",
    "\n",
    "print(f\"Intenta adivinar la palabra secreta:\")\n",
    "print(asteriscos)\n",
    "\n",
    "while vidas > 0 and asteriscos.replace(\" \" , \"\") != palabra_secreta:\n",
    "\n",
    "    letra = input(\"Escoge una letra para adivinar la palabra secreta\").strip().lower()\n",
    "\n",
    "    if letra in letras_secretas:\n",
    "\n",
    "        posicion = letras_secretas.index(letra)\n",
    "        lista_asteriscos[posicion] = letra\n",
    "        asteriscos = \" \".join(lista_asteriscos)\n",
    "        print(f\"¡Enhorabuena, has acertado! La letra {letra} está en la palabra secreta:\")\n",
    "        print(asteriscos)\n",
    "        \n",
    "\n",
    "    else:\n",
    "        \n",
    "        vidas -= 1\n",
    "        print(f\"Lástima, has fallado. La letra {letra} no se encuentra en la palabra secreta:\")\n",
    "        print(f\"Te quedan {vidas} vidas\")   "
   ]
  }
 ],
 "metadata": {
  "kernelspec": {
   "display_name": "base",
   "language": "python",
   "name": "python3"
  },
  "language_info": {
   "codemirror_mode": {
    "name": "ipython",
    "version": 3
   },
   "file_extension": ".py",
   "mimetype": "text/x-python",
   "name": "python",
   "nbconvert_exporter": "python",
   "pygments_lexer": "ipython3",
   "version": "3.9.7"
  }
 },
 "nbformat": 4,
 "nbformat_minor": 2
}
